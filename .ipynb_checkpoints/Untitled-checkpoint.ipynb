{
 "cells": [
  {
   "cell_type": "code",
   "execution_count": 1,
   "metadata": {},
   "outputs": [],
   "source": [
    "import scipy.integrate as spi\n",
    "import numpy as np\n",
    "import pylab as pl\n",
    "%matplotlib inline\n"
   ]
  },
  {
   "cell_type": "code",
   "execution_count": 2,
   "metadata": {},
   "outputs": [],
   "source": [
    "beta=0.94\n",
    "gamma=0.1\n",
    "TS=1.0\n",
    "ND=90.0\n",
    "S0 = 0.9832065753657132\n",
    "#S0=1-1e-6\n",
    "I0=0.0028320758403601433\n",
    "INPUT = (S0, I0, 0.0)\n",
    "\n"
   ]
  },
  {
   "cell_type": "code",
   "execution_count": 3,
   "metadata": {},
   "outputs": [
    {
     "ename": "SyntaxError",
     "evalue": "invalid syntax (<ipython-input-3-88017c7fbc0e>, line 5)",
     "output_type": "error",
     "traceback": [
      "\u001b[1;36m  File \u001b[1;32m\"<ipython-input-3-88017c7fbc0e>\"\u001b[1;36m, line \u001b[1;32m5\u001b[0m\n\u001b[1;33m    Y[1] = beta * V[0] * V[1] - gamma * V[1] -\u001b[0m\n\u001b[1;37m                                               ^\u001b[0m\n\u001b[1;31mSyntaxError\u001b[0m\u001b[1;31m:\u001b[0m invalid syntax\n"
     ]
    }
   ],
   "source": [
    "def diff_eqs(INP,t):  \n",
    "    Y=np.zeros((3))\n",
    "    V = INP    \n",
    "    Y[0] = - beta * V[0] * V[1]\n",
    "    Y[1] = beta * V[0] * V[1] - gamma * V[1] \n",
    "    Y[2] = gamma * V[1]\n",
    "    return Y   # For odeint\n"
   ]
  },
  {
   "cell_type": "code",
   "execution_count": null,
   "metadata": {},
   "outputs": [],
   "source": [
    "t_start = 0.0; t_end = ND; t_inc = TS\n",
    "t_range = np.arange(t_start, t_end+t_inc, t_inc)\n",
    "RES = spi.odeint(diff_eqs,INPUT,t_range)\n"
   ]
  },
  {
   "cell_type": "code",
   "execution_count": null,
   "metadata": {},
   "outputs": [],
   "source": [
    "#Ploting\n",
    "pl.subplot(211)\n",
    "pl.plot(RES[:,0], '-g', label='Susceptibles')\n",
    "pl.plot(RES[:,2], '-k', label='Recovereds')\n",
    "pl.legend(loc=0)\n",
    "pl.title('Program_2_1.py')\n",
    "pl.xlabel('Time')\n",
    "pl.ylabel('Susceptibles and Recovereds')\n",
    "pl.subplot(212)\n",
    "pl.plot(RES[:,1], '-r', label='Infectious')\n",
    "pl.xlabel('Time')\n",
    "pl.ylabel('Infectious')\n",
    "pl.show()\n"
   ]
  }
 ],
 "metadata": {
  "kernelspec": {
   "display_name": "Python 3",
   "language": "python",
   "name": "python3"
  },
  "language_info": {
   "codemirror_mode": {
    "name": "ipython",
    "version": 3
   },
   "file_extension": ".py",
   "mimetype": "text/x-python",
   "name": "python",
   "nbconvert_exporter": "python",
   "pygments_lexer": "ipython3",
   "version": "3.8.6"
  }
 },
 "nbformat": 4,
 "nbformat_minor": 4
}
