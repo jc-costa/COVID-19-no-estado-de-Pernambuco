{
 "cells": [
  {
   "cell_type": "code",
   "execution_count": null,
   "metadata": {},
   "outputs": [],
   "source": [
    "# Projeto da disciplina IF816 2020.3 -  \n",
    "# O objetivo é prever a progressão da epidemia da doença coronavírus (Covid-19) no estado de Pernambuco."
   ]
  },
  {
   "cell_type": "code",
   "execution_count": 2,
   "metadata": {},
   "outputs": [],
   "source": [
    "import numpy as np \n",
    "import matplotlib.pyplot as plt\n",
    "from scipy.integrate import odeint"
   ]
  },
  {
   "cell_type": "code",
   "execution_count": 3,
   "metadata": {},
   "outputs": [],
   "source": [
    "#Inicialização das variáveis\n",
    "N = 9616621\n",
    "I0 = 153299\n",
    "R0 = 133512\n",
    "S0 = N - I0 - R0\n",
    "beta = 0.94\n",
    "gamma = 0.1\n",
    "mu = 0.03\n",
    "t = np.linspace(0, 240, 240)\n"
   ]
  },
  {
   "cell_type": "code",
   "execution_count": 4,
   "metadata": {},
   "outputs": [],
   "source": [
    "#Implementação das equações diferenciais\n",
    "def deriv(y, t, N, beta, gamma, mu):\n",
    "    S, I, R, M = y\n",
    "    dSdt = -beta*(I/N)*S             #suscetíveis\n",
    "    dIdt = beta*(I/N)*S - gamma*I    #infectados\n",
    "    dRdt = gamma*I                   #recuperados\n",
    "    dMdt = mu*I                      #mortos\n",
    "    return dSdt, dIdt, dRdt, dMdt"
   ]
  }
 ],
 "metadata": {
  "kernelspec": {
   "display_name": "Python 3",
   "language": "python",
   "name": "python3"
  },
  "language_info": {
   "codemirror_mode": {
    "name": "ipython",
    "version": 3
   },
   "file_extension": ".py",
   "mimetype": "text/x-python",
   "name": "python",
   "nbconvert_exporter": "python",
   "pygments_lexer": "ipython3",
   "version": "3.8.6"
  }
 },
 "nbformat": 4,
 "nbformat_minor": 4
}
