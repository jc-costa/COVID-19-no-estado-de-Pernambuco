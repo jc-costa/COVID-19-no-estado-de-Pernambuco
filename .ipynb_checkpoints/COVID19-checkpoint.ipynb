{
 "cells": [
  {
   "cell_type": "code",
   "execution_count": 1,
   "metadata": {},
   "outputs": [],
   "source": [
    "import numpy as np \n",
    "import matplotlib.pyplot as plt"
   ]
  },
  {
   "cell_type": "code",
   "execution_count": 2,
   "metadata": {},
   "outputs": [],
   "source": [
    "#Inicialização das variáveis\n",
    "nDias = 160       #Número de dias que iremos considerar para fazer a predição\n",
    "dt = 1            #Time step in days \n",
    "N = 9616621       #Número de cidadãos pernambucanos\n",
    "gamma = 1.0/10.0  #Probabilidade de recuperação\n",
    "beta = 0.94/10.0  #Taxa de infecção\n",
    "mu = 0.03         #Taxa de letalidade\n",
    "\n",
    "S = np.zeros(nDias) #população suscetível\n",
    "I = np.zeros(nDias) #população infectada\n",
    "R = np.zeros(nDias) #população recuperada\n",
    "M = np.zeros(nDias) #população morta\n",
    "t = np.arange(nDias)*dt #tempo para simulação\n",
    "\n",
    "S[0] = N - I[0] - R[0] -M[0] #Número de pessoas suscetíveis\n",
    "I[0] = I[0]/N                 #Número de pessoas infectadas\n",
    "R[0] = 133512                #Número de pessoas recuperadas\n",
    "M[0] = 749                   #Número de óbitos /"
   ]
  },
  {
   "cell_type": "code",
   "execution_count": 3,
   "metadata": {},
   "outputs": [
    {
     "ename": "SyntaxError",
     "evalue": "unmatched ')' (<ipython-input-3-b6a64bc90ecd>, line 9)",
     "output_type": "error",
     "traceback": [
      "\u001b[1;36m  File \u001b[1;32m\"<ipython-input-3-b6a64bc90ecd>\"\u001b[1;36m, line \u001b[1;32m9\u001b[0m\n\u001b[1;33m    I[i+1] = I[i] + (beta*S[i]*I[i]) - gamma*I[i])*dt\u001b[0m\n\u001b[1;37m                                                 ^\u001b[0m\n\u001b[1;31mSyntaxError\u001b[0m\u001b[1;31m:\u001b[0m unmatched ')'\n"
     ]
    }
   ],
   "source": [
    "\"\"\"\"Implementação das equações\n",
    "Si+1 = Si - (beta*Si*Ii)dt\n",
    "Ii+1 = Ii + (beta*Si*Ii - gamma*Ii)dt\n",
    "Ri+1 = Ri + (gamma*Ii)dt\n",
    "Mi+1 = Mi + (mu*Ii)ddt\"\"\"\n",
    "\n",
    "for i in range(nDias-1):\n",
    "    S[i+1] = S[i] - beta*(S[i]*I[i])*dt\n",
    "    I[i+1] = I[i] + (beta*S[i]*I[i]) - (gamma*I[i])*dt\n",
    "    R[i+1] = R[i] + (gamma*I[i])*dt\n",
    "    M[i+1] = M[i] + (mu*I[i])*dt\n",
    "    "
   ]
  },
  {
   "cell_type": "code",
   "execution_count": null,
   "metadata": {},
   "outputs": [],
   "source": [
    "#Plotando o gráfico\n",
    "fig = plt.figure(1); fig.clf()\n",
    "plt.plot(t, S, 'r', lw = 3, label = 'Suscetível')\n",
    "plt.plot(t, I, 'y', lw = 3, label = 'Infectados')\n",
    "plt.plot(t, R, 'b', lw = 3, label = 'Recuperados')\n",
    "plt.plot(t, M, 'y', lw = 3, label = 'Mortos')\n",
    "fig.legend();\n",
    "plt.xlabel('Dias')\n",
    "plt.ylabel('População')\n"
   ]
  }
 ],
 "metadata": {
  "kernelspec": {
   "display_name": "Python 3",
   "language": "python",
   "name": "python3"
  },
  "language_info": {
   "codemirror_mode": {
    "name": "ipython",
    "version": 3
   },
   "file_extension": ".py",
   "mimetype": "text/x-python",
   "name": "python",
   "nbconvert_exporter": "python",
   "pygments_lexer": "ipython3",
   "version": "3.8.6"
  }
 },
 "nbformat": 4,
 "nbformat_minor": 4
}
